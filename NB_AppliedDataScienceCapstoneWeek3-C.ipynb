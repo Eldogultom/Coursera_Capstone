{
    "cells": [
        {
            "cell_type": "code",
            "execution_count": null,
            "metadata": {
                "collapsed": true
            },
            "outputs": [],
            "source": "import requests # library to handle requests\nfrom IPython.display import display_html\nimport pandas as pd\nimport numpy as np\nfrom bs4 import BeautifulSoup\n#"
        },
        {
            "cell_type": "code",
            "execution_count": null,
            "metadata": {},
            "outputs": [],
            "source": "page = requests.get('https://en.wikipedia.org/wiki/List_of_postal_codes_of_Canada:_M').text\nb4soup=BeautifulSoup(page,'lxml')\nprint(b4soup.title)\nfrom IPython.display import display_html\ntab = str(b4soup.table)\ndisplay_html(tab,raw=True)\n#"
        },
        {
            "cell_type": "code",
            "execution_count": null,
            "metadata": {},
            "outputs": [],
            "source": "dfori = pd.read_html(tab)\ndf=dfori[0]\ndf.head()"
        },
        {
            "cell_type": "code",
            "execution_count": null,
            "metadata": {},
            "outputs": [],
            "source": "#\n# Dropping Rows  where Borough = 'Not assigned'\ndfdropNa = df[df.Borough != 'Not assigned']"
        },
        {
            "cell_type": "code",
            "execution_count": null,
            "metadata": {},
            "outputs": [],
            "source": "# Join the neighbourhoods when Postalcode are same\ndfclean = dfdropNa.groupby(['Postcode','Borough'], sort=False).agg(', '.join)\ndfclean.reset_index(inplace=True)"
        },
        {
            "cell_type": "code",
            "execution_count": null,
            "metadata": {},
            "outputs": [],
            "source": "# Replace the 'Not assigned' neighbourhoods with names of Borough\ndfclean['Neighbourhood'] = np.where(dfclean['Neighbourhood'] == 'Not assigned',dfclean['Borough'], dfclean['Neighbourhood'])\n\ndfclean"
        },
        {
            "cell_type": "code",
            "execution_count": null,
            "metadata": {},
            "outputs": [],
            "source": "#\n# Shape of data frame\ndfclean.shape"
        },
        {
            "cell_type": "code",
            "execution_count": null,
            "metadata": {},
            "outputs": [],
            "source": "tbpos = pd.read_csv('https://cocl.us/Geospatial_data')\ntbpos.head()"
        },
        {
            "cell_type": "code",
            "execution_count": null,
            "metadata": {},
            "outputs": [],
            "source": "tbpos.rename(columns={'Postal Code':'Postcode'},inplace=True)\ndfjoin = pd.merge(dfclean,tbpos,on='Postcode')\ndfjoin.head()"
        },
        {
            "cell_type": "code",
            "execution_count": null,
            "metadata": {},
            "outputs": [],
            "source": "\ndfjoin"
        }
    ],
    "metadata": {
        "kernelspec": {
            "display_name": "Python 3.6",
            "language": "python",
            "name": "python3"
        },
        "language_info": {
            "codemirror_mode": {
                "name": "ipython",
                "version": 3
            },
            "file_extension": ".py",
            "mimetype": "text/x-python",
            "name": "python",
            "nbconvert_exporter": "python",
            "pygments_lexer": "ipython3",
            "version": "3.6.9"
        }
    },
    "nbformat": 4,
    "nbformat_minor": 1
}